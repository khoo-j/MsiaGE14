{
 "cells": [
  {
   "cell_type": "markdown",
   "metadata": {},
   "source": [
    "# Further deciphering the most important age group"
   ]
  },
  {
   "cell_type": "markdown",
   "metadata": {},
   "source": [
    "The random forest output surfaced another question: did the age group 51-60 'steal' importance score from the other age groups? \n",
    "\n",
    "In general, age split is a zero-sum game. This means: if more proportion of a constituency falls under an age group, another age group needs to have less proportion, because the sum of proportions of every age group needs to equal 100%. \n",
    "\n",
    "Thus, the question here is: did the 51-60 age group correlate with a lower proportion in the other age groups, across all constituencies? Did age group 51-60 'steal' population proportions from the other age groups?"
   ]
  },
  {
   "cell_type": "code",
   "execution_count": 2,
   "metadata": {
    "collapsed": false
   },
   "outputs": [
    {
     "data": {
      "text/html": [
       "<style>.container { width:85% !important; }</style>"
      ],
      "text/plain": [
       "<IPython.core.display.HTML object>"
      ]
     },
     "metadata": {},
     "output_type": "display_data"
    }
   ],
   "source": [
    "\"\"\"\n",
    "Malaysian Election age group analysis by Jamie K\n",
    "Question to explore:\n",
    "Age composition of a single constituency is a zero-sum game. Higher composition of a single age group should translate to lower composition of another age group\n",
    "\n",
    "\"\"\"\n",
    "import numpy as np\n",
    "import pandas as pd\n",
    "import seaborn as sns\n",
    "import matplotlib.pyplot as plt\n",
    "from IPython.core.display import display, HTML\n",
    "\n",
    "display(HTML(\"<style>.container { width:85% !important; }</style>\"))\n",
    "%matplotlib qt\n",
    "sns.set(style=\"ticks\")\n",
    "\n",
    "ge14_age = pd.read_excel(\"Tindak_GE14_Demographics_2018.xlsx\", sheet_name = \"age\")\n",
    "ge14_age = ge14_age[['21 - 30 (%)','31 - 40 (%)','41 - 50 (%)','51 - 60 (%)','61 - 70 (%)','71 - 80 (%)','81 - 90 (%)','Above 90 (%)', 'GE 2018 COALITION WINNER']]\n",
    "ge14_age.set_index(\"GE 2018 COALITION WINNER\", inplace= True)\n",
    "ge14_age.columns = ge14_age.columns.map(lambda x: str(x)[:-4])\n",
    "ge14_age.reset_index(inplace= True)\n",
    "\n",
    "colors = [\"clear blue\", \"amber\", \"spearmint\",\"greyish\", \"purply blue\",\"rouge\", \"faded green\"]"
   ]
  },
  {
   "cell_type": "code",
   "execution_count": 3,
   "metadata": {
    "collapsed": false,
    "scrolled": false
   },
   "outputs": [],
   "source": [
    "#Plots all age groups vs each other\n",
    "pp = sns.pairplot(ge14_age, hue='GE 2018 COALITION WINNER', size= 1.5, palette = sns.xkcd_palette(colors), diag_kind = 'none')\n",
    "pp.set(xticklabels=[])\n",
    "pp.set(yticklabels=[])\n",
    "fig = pp.fig\n",
    "fig.set_size_inches(10, 10)"
   ]
  },
  {
   "cell_type": "code",
   "execution_count": 4,
   "metadata": {
    "collapsed": false
   },
   "outputs": [
    {
     "data": {
      "text/plain": [
       "<seaborn.axisgrid.PairGrid at 0x1b9a822e4a8>"
      ]
     },
     "execution_count": 4,
     "metadata": {},
     "output_type": "execute_result"
    }
   ],
   "source": [
    "#Plots 21-30 s 31-40\n",
    "pp2 = sns.pairplot(ge14_age, hue='GE 2018 COALITION WINNER', size= 1.5, palette = sns.xkcd_palette(colors), vars=['21 - 30', '31 - 40'], diag_kind = \"none\")\n",
    "pp2.set(xticklabels=[])\n",
    "pp2.set(yticklabels=[])"
   ]
  },
  {
   "cell_type": "code",
   "execution_count": 5,
   "metadata": {
    "collapsed": false
   },
   "outputs": [
    {
     "data": {
      "text/plain": [
       "<seaborn.axisgrid.PairGrid at 0x1b9ac3a0f28>"
      ]
     },
     "execution_count": 5,
     "metadata": {},
     "output_type": "execute_result"
    }
   ],
   "source": [
    "#Plots 51-60 vs all other age groups\n",
    "ge14_age[''] = np.nan\n",
    "pp3 = sns.pairplot(ge14_age, hue='GE 2018 COALITION WINNER', size= 1.5, palette = sns.xkcd_palette(colors), y_vars=['51 - 60'], x_vars = ['21 - 30','31 - 40','41 - 50','', '61 - 70','71 - 80','81 - 90','Above 90'])\n",
    "pp3.set(xticklabels=[])\n",
    "pp3.set(yticklabels=[])"
   ]
  },
  {
   "cell_type": "code",
   "execution_count": 6,
   "metadata": {
    "collapsed": false
   },
   "outputs": [
    {
     "data": {
      "text/plain": [
       "<seaborn.axisgrid.PairGrid at 0x1b9ad6ada90>"
      ]
     },
     "execution_count": 6,
     "metadata": {},
     "output_type": "execute_result"
    }
   ],
   "source": [
    "#Plots 31-40 vs all other age groups (Outlier)\n",
    "pp4 = sns.pairplot(ge14_age, hue='GE 2018 COALITION WINNER', size= 1.5, palette = sns.xkcd_palette(colors), y_vars=['31 - 40'], x_vars = ['21 - 30','','41 - 50','51 - 60', '61 - 70','71 - 80','81 - 90','Above 90'])\n",
    "pp4.set(xticklabels=[])\n",
    "pp4.set(yticklabels=[])"
   ]
  },
  {
   "cell_type": "markdown",
   "metadata": {},
   "source": [
    "### Interpreting the paired plot chart"
   ]
  },
  {
   "cell_type": "markdown",
   "metadata": {},
   "source": [
    "This is a plot of all age groups (x-axis) vs every other age group (y-axis), plotting them pair-by-pair. \n",
    "\n",
    "As mentioned earlier, percentage (proportion) age split of the constituencies is a zero-sum game: if a constituency has more percentage of its voters within a certain age group, it should have a corresponding lower percentage of voters in another age group. The question here is: if 51-60 has a higher percentage in a constituency, which age group 'suffers' with a lower percentage?\n",
    "\n",
    "In this paired-plot, ignore the diagonal axis, which is a histogram of the given age group color-coded by winning political party. Observations:\n",
    "\n",
    "1. To read the other plots, we are looking at age group in the x-axis vs y-axis. So, let's take the 1st column, 2nd row plot. This plots age group 21-30 vs age group 31-40 (x-axis vs y-axis). In this plot, we see a pattern that moves upwards to the right-hand top corner. This means: constituencies with higher percentage in 21-30 age group also shows a higher percentage in the 31-40 age group. A positive correlation pattern exists between the 21-30 and 31-40 age group.\n",
    "\n",
    "2. We can confirm this pattern by looking at the corresponding plot 31-40 vs 21-30, which is in the 2nd column, 1st row plot. Here, we see the same positive correlation plot (higher 31-40 shows higher 21-30).\n",
    "\n",
    "3. Interesting note: if we looked at states with high 21-30 AND high 31-40 (these are plots we studied in point 1 & 2), these are GAGASAN SEJAHTERA seats (green data points). In particular, a seat with very high 21-30 age groups is correlated with a win by GAGASAN SEJAHTERA.\n",
    "\n",
    "4. Now that we know how to interpret these charts, let's quickly scan for patterns. Over here, we are interested to know which age groups shows a 'decline' in population proportions as age group 51-60 increased in proportions: let's JUMP to the row 51-60 (on the y-axis). \n",
    "\n",
    "5. Here, we see age group 51-60 being NEGATIVELY correlated with the two youngest age group: 21-30 and 31-40. This means: a seat with higher 51-60 percentage 'steals' percentages from the two younger age groups. \n",
    "\n",
    "6. Also, seats with higher older age groups (51 & above, with exception for 'above 90' age group) tends to be PAKATAN HARAPAN seats (orange data points).\n",
    "\n",
    "7. Note: There is an outlier in on the row 31-40 (Y-axis 31-40). The outlier blue dot (a BN seat) is Putrajaya, with a 39.5% of its population being in the age group 31-40. This age group 'stole' proportions from the older age groups (61 & above), therefore you see it as an outlier in the other age group rows as well."
   ]
  },
  {
   "cell_type": "markdown",
   "metadata": {},
   "source": [
    "#### Conclusion of the exercise: Random Forest & Paired-plot correlation charts"
   ]
  },
  {
   "cell_type": "markdown",
   "metadata": {},
   "source": [
    "With this exercise, we discovered the following:\n",
    "1. The Random Forest algorithm informed us Age 51-60 was the 'most influential' age group. From there, we knew we needed to dig further into the age splits, with a keen eye on 51-60.\n",
    "\n",
    "2. With the help of the paired-plot correlation charts, we further discovered:\n",
    "\n",
    "    1. Parlimentary seats with very high percentage of younger voters (21-30 & 31-40) tend to be GAGASAN SEJAHTERA seats.\n",
    "    2. Parliamentary seats with very high percentage of older voters (51 and above, with exception for '90 & above' age group), tends to be PAKATAN HARAPAN seats.\n",
    "    3. Investigating the age group zero-sum phenomenon, the age group 51-60 'steals' proportion from the 21-30 & 31-40 age groups, and tends to correlate with a higher proportion of 'older' age groups. I.E. seats with more 51-60 year olds tend to also have more 61-70, 71-80, and 81-90 year olds.\n",
    "    4. It is highly likely the GE14 Pakatan Harapan 'Tsunami' was led by the older generation (above 51 years old)"
   ]
  },
  {
   "cell_type": "code",
   "execution_count": 8,
   "metadata": {
    "collapsed": false
   },
   "outputs": [
    {
     "data": {
      "text/plain": [
       "['__annotations__',\n",
       " '__call__',\n",
       " '__class__',\n",
       " '__closure__',\n",
       " '__code__',\n",
       " '__defaults__',\n",
       " '__delattr__',\n",
       " '__dict__',\n",
       " '__dir__',\n",
       " '__doc__',\n",
       " '__eq__',\n",
       " '__format__',\n",
       " '__ge__',\n",
       " '__get__',\n",
       " '__getattribute__',\n",
       " '__globals__',\n",
       " '__gt__',\n",
       " '__hash__',\n",
       " '__init__',\n",
       " '__kwdefaults__',\n",
       " '__le__',\n",
       " '__lt__',\n",
       " '__module__',\n",
       " '__name__',\n",
       " '__ne__',\n",
       " '__new__',\n",
       " '__qualname__',\n",
       " '__reduce__',\n",
       " '__reduce_ex__',\n",
       " '__repr__',\n",
       " '__setattr__',\n",
       " '__sizeof__',\n",
       " '__str__',\n",
       " '__subclasshook__']"
      ]
     },
     "execution_count": 8,
     "metadata": {},
     "output_type": "execute_result"
    }
   ],
   "source": [
    "dir(sns.pairplot)"
   ]
  },
  {
   "cell_type": "code",
   "execution_count": null,
   "metadata": {
    "collapsed": true
   },
   "outputs": [],
   "source": []
  }
 ],
 "metadata": {
  "kernelspec": {
   "display_name": "Python 3",
   "language": "python",
   "name": "python3"
  },
  "language_info": {
   "codemirror_mode": {
    "name": "ipython",
    "version": 3
   },
   "file_extension": ".py",
   "mimetype": "text/x-python",
   "name": "python",
   "nbconvert_exporter": "python",
   "pygments_lexer": "ipython3",
   "version": "3.5.3"
  }
 },
 "nbformat": 4,
 "nbformat_minor": 2
}
